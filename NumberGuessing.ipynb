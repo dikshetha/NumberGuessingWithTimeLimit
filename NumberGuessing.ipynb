{
  "nbformat": 4,
  "nbformat_minor": 0,
  "metadata": {
    "colab": {
      "provenance": [],
      "authorship_tag": "ABX9TyNUtlG2palIF+aGWXXwKxRQ",
      "include_colab_link": true
    },
    "kernelspec": {
      "name": "python3",
      "display_name": "Python 3"
    },
    "language_info": {
      "name": "python"
    }
  },
  "cells": [
    {
      "cell_type": "markdown",
      "metadata": {
        "id": "view-in-github",
        "colab_type": "text"
      },
      "source": [
        "<a href=\"https://colab.research.google.com/github/dikshetha/NumberGuessingWithTimeLimit/blob/main/NumberGuessing.ipynb\" target=\"_parent\"><img src=\"https://colab.research.google.com/assets/colab-badge.svg\" alt=\"Open In Colab\"/></a>"
      ]
    },
    {
      "cell_type": "code",
      "source": [
        "import random\n",
        "import time\n",
        "\n",
        "def generate_random_number():\n",
        "    return random.randint(1, 100)\n",
        "\n",
        "def get_user_guess():\n",
        "    while True:\n",
        "        try:\n",
        "            guess = int(input(\"Enter your guess (1-100): \"))\n",
        "            if 1 <= guess <= 100:\n",
        "                return guess\n",
        "            else:\n",
        "                print(\"Please enter a number between 1 and 100.\")\n",
        "        except ValueError:\n",
        "            print(\"Invalid input. Please enter a valid number.\")\n",
        "\n",
        "def time_limit_guessing_game():\n",
        "    print(\"Welcome to the Time Limit Guessing Game!\")\n",
        "    print(\"You have 10 seconds to guess the number.\")\n",
        "\n",
        "    target_number = generate_random_number()\n",
        "    start_time = time.time()\n",
        "\n",
        "    while time.time() - start_time <= 10:\n",
        "        user_guess = get_user_guess()\n",
        "\n",
        "        if user_guess == target_number:\n",
        "            print(\"Congratulations! You guessed the correct number.\")\n",
        "            return\n",
        "        elif user_guess < target_number:\n",
        "            print(\"Try a higher number.\")\n",
        "        else:\n",
        "            print(\"Try a lower number.\")\n",
        "\n",
        "    print(f\"Time's up! The correct number was {target_number}.\")\n",
        "\n",
        "if __name__ == \"__main__\":\n",
        "    time_limit_guessing_game()\n"
      ],
      "metadata": {
        "colab": {
          "base_uri": "https://localhost:8080/"
        },
        "id": "-5Jdf_dFWFrE",
        "outputId": "0e8fec30-2795-4c22-8497-5ba99049f3fc"
      },
      "execution_count": 14,
      "outputs": [
        {
          "output_type": "stream",
          "name": "stdout",
          "text": [
            "Welcome to the Time Limit Guessing Game!\n",
            "You have 10 seconds to guess the number.\n",
            "Enter your guess (1-100): 50\n",
            "Try a higher number.\n",
            "Enter your guess (1-100): 70\n",
            "Try a higher number.\n",
            "Enter your guess (1-100): 90\n",
            "Try a higher number.\n",
            "Time's up! The correct number was 93.\n"
          ]
        }
      ]
    }
  ]
}